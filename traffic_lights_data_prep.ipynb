{
 "cells": [
  {
   "cell_type": "markdown",
   "metadata": {},
   "source": [
    "## Traffic Light Detection Sub-Project\n",
    "\n",
    "Project Description:\n",
    "\n",
    "* Data exploration and analysis for training a set of traffic light images\n",
    "* Faster RCNN Inception v2 trained on Coco database\n",
    "* LISA Traffic Light Database by MarkP.Philipsen, MortenB.Jensen, AndreasMøgelmose, ThomasB.Moeslund and MohanM.Trivedi\n",
    "* Image folder dayClip3. 643 frames 1280 x 960\n",
    "* Tensorflow 1.12, CUDA 9.0, CuDNN 7.3.1, Anaconda environment\n",
    "* Intel Core i7, Nvidia GeForce 845M (my trusty laptop)\n",
    "* Cannot use filename as image name because it's not unique, used panda index instead\n",
    "* Images are small when converted to JPG\n",
    "\n",
    "TODO:\n",
    "- gather simulator data, annotate and train\n",
    "- gather Carla data, annotate and train"
   ]
  },
  {
   "cell_type": "code",
   "execution_count": 1,
   "metadata": {},
   "outputs": [],
   "source": [
    "import matplotlib.image as mpimg\n",
    "import matplotlib.pyplot as plt\n",
    "import numpy as np\n",
    "import pandas as pd\n",
    "import random\n",
    "import csv\n",
    "import cv2\n",
    "\n",
    "%matplotlib inline"
   ]
  },
  {
   "cell_type": "markdown",
   "metadata": {},
   "source": [
    "### DATA EXPLORATION"
   ]
  },
  {
   "cell_type": "code",
   "execution_count": 2,
   "metadata": {},
   "outputs": [],
   "source": [
    "basedir = './images/'"
   ]
  },
  {
   "cell_type": "code",
   "execution_count": 3,
   "metadata": {},
   "outputs": [
    {
     "data": {
      "text/html": [
       "<div>\n",
       "<style scoped>\n",
       "    .dataframe tbody tr th:only-of-type {\n",
       "        vertical-align: middle;\n",
       "    }\n",
       "\n",
       "    .dataframe tbody tr th {\n",
       "        vertical-align: top;\n",
       "    }\n",
       "\n",
       "    .dataframe thead th {\n",
       "        text-align: right;\n",
       "    }\n",
       "</style>\n",
       "<table border=\"1\" class=\"dataframe\">\n",
       "  <thead>\n",
       "    <tr style=\"text-align: right;\">\n",
       "      <th></th>\n",
       "      <th>Filename</th>\n",
       "      <th>Annotation tag</th>\n",
       "      <th>Upper left corner X</th>\n",
       "      <th>Upper left corner Y</th>\n",
       "      <th>Lower right corner X</th>\n",
       "      <th>Lower right corner Y</th>\n",
       "      <th>Origin file</th>\n",
       "      <th>Origin frame number</th>\n",
       "      <th>Origin track</th>\n",
       "      <th>Origin track frame number</th>\n",
       "    </tr>\n",
       "  </thead>\n",
       "  <tbody>\n",
       "    <tr>\n",
       "      <th>0</th>\n",
       "      <td>dayTraining/dayClip3--00001.png</td>\n",
       "      <td>warning</td>\n",
       "      <td>622</td>\n",
       "      <td>361</td>\n",
       "      <td>637</td>\n",
       "      <td>379</td>\n",
       "      <td>dayTraining/dayClip3/dayClip3Shutter0.000800-G...</td>\n",
       "      <td>1</td>\n",
       "      <td>dayTraining/dayClip3/dayClip3Shutter0.000800-G...</td>\n",
       "      <td>1</td>\n",
       "    </tr>\n",
       "    <tr>\n",
       "      <th>1</th>\n",
       "      <td>dayTraining/dayClip3--00002.png</td>\n",
       "      <td>warning</td>\n",
       "      <td>622</td>\n",
       "      <td>358</td>\n",
       "      <td>637</td>\n",
       "      <td>380</td>\n",
       "      <td>dayTraining/dayClip3/dayClip3Shutter0.000800-G...</td>\n",
       "      <td>2</td>\n",
       "      <td>dayTraining/dayClip3/dayClip3Shutter0.000800-G...</td>\n",
       "      <td>2</td>\n",
       "    </tr>\n",
       "    <tr>\n",
       "      <th>2</th>\n",
       "      <td>dayTraining/dayClip3--00003.png</td>\n",
       "      <td>warning</td>\n",
       "      <td>506</td>\n",
       "      <td>382</td>\n",
       "      <td>518</td>\n",
       "      <td>404</td>\n",
       "      <td>dayTraining/dayClip3/dayClip3Shutter0.000800-G...</td>\n",
       "      <td>3</td>\n",
       "      <td>dayTraining/dayClip3/dayClip3Shutter0.000800-G...</td>\n",
       "      <td>3</td>\n",
       "    </tr>\n",
       "    <tr>\n",
       "      <th>3</th>\n",
       "      <td>dayTraining/dayClip3--00004.png</td>\n",
       "      <td>warning</td>\n",
       "      <td>620</td>\n",
       "      <td>358</td>\n",
       "      <td>638</td>\n",
       "      <td>380</td>\n",
       "      <td>dayTraining/dayClip3/dayClip3Shutter0.000800-G...</td>\n",
       "      <td>4</td>\n",
       "      <td>dayTraining/dayClip3/dayClip3Shutter0.000800-G...</td>\n",
       "      <td>4</td>\n",
       "    </tr>\n",
       "    <tr>\n",
       "      <th>4</th>\n",
       "      <td>dayTraining/dayClip3--00004.png</td>\n",
       "      <td>warning</td>\n",
       "      <td>504</td>\n",
       "      <td>382</td>\n",
       "      <td>519</td>\n",
       "      <td>404</td>\n",
       "      <td>dayTraining/dayClip3/dayClip3Shutter0.000800-G...</td>\n",
       "      <td>4</td>\n",
       "      <td>dayTraining/dayClip3/dayClip3Shutter0.000800-G...</td>\n",
       "      <td>4</td>\n",
       "    </tr>\n",
       "  </tbody>\n",
       "</table>\n",
       "</div>"
      ],
      "text/plain": [
       "                          Filename Annotation tag  Upper left corner X  \\\n",
       "0  dayTraining/dayClip3--00001.png        warning                  622   \n",
       "1  dayTraining/dayClip3--00002.png        warning                  622   \n",
       "2  dayTraining/dayClip3--00003.png        warning                  506   \n",
       "3  dayTraining/dayClip3--00004.png        warning                  620   \n",
       "4  dayTraining/dayClip3--00004.png        warning                  504   \n",
       "\n",
       "   Upper left corner Y  Lower right corner X  Lower right corner Y  \\\n",
       "0                  361                   637                   379   \n",
       "1                  358                   637                   380   \n",
       "2                  382                   518                   404   \n",
       "3                  358                   638                   380   \n",
       "4                  382                   519                   404   \n",
       "\n",
       "                                         Origin file  Origin frame number  \\\n",
       "0  dayTraining/dayClip3/dayClip3Shutter0.000800-G...                    1   \n",
       "1  dayTraining/dayClip3/dayClip3Shutter0.000800-G...                    2   \n",
       "2  dayTraining/dayClip3/dayClip3Shutter0.000800-G...                    3   \n",
       "3  dayTraining/dayClip3/dayClip3Shutter0.000800-G...                    4   \n",
       "4  dayTraining/dayClip3/dayClip3Shutter0.000800-G...                    4   \n",
       "\n",
       "                                        Origin track  \\\n",
       "0  dayTraining/dayClip3/dayClip3Shutter0.000800-G...   \n",
       "1  dayTraining/dayClip3/dayClip3Shutter0.000800-G...   \n",
       "2  dayTraining/dayClip3/dayClip3Shutter0.000800-G...   \n",
       "3  dayTraining/dayClip3/dayClip3Shutter0.000800-G...   \n",
       "4  dayTraining/dayClip3/dayClip3Shutter0.000800-G...   \n",
       "\n",
       "   Origin track frame number  \n",
       "0                          1  \n",
       "1                          2  \n",
       "2                          3  \n",
       "3                          4  \n",
       "4                          4  "
      ]
     },
     "execution_count": 3,
     "metadata": {},
     "output_type": "execute_result"
    }
   ],
   "source": [
    "traffic_df = pd.read_csv(\"./images/dayClip3/trainAnnotationsBOX.csv\", delimiter=';')\n",
    "#traffic_df = pd.read_csv(\"./images/dayClip3/trainAnnotationsBULB.csv\", delimiter=';')\n",
    "traffic_df.head()"
   ]
  },
  {
   "cell_type": "code",
   "execution_count": 4,
   "metadata": {},
   "outputs": [
    {
     "data": {
      "text/plain": [
       "count     1131\n",
       "unique     226\n",
       "top        304\n",
       "freq       175\n",
       "Name: Lower right corner Y, dtype: object"
      ]
     },
     "execution_count": 4,
     "metadata": {},
     "output_type": "execute_result"
    }
   ],
   "source": [
    "traffic_df[\"Upper left corner X\"] = traffic_df[\"Upper left corner X\"].apply(str)\n",
    "traffic_df[\"Upper left corner Y\"] = traffic_df[\"Upper left corner Y\"].apply(str)\n",
    "traffic_df[\"Lower right corner X\"] = traffic_df[\"Lower right corner X\"].apply(str)\n",
    "traffic_df[\"Lower right corner Y\"] = traffic_df[\"Lower right corner Y\"].apply(str)\n",
    "traffic_df[\"Lower right corner Y\"].describe()"
   ]
  },
  {
   "cell_type": "markdown",
   "metadata": {},
   "source": [
    "Filenames are not unique"
   ]
  },
  {
   "cell_type": "code",
   "execution_count": 6,
   "metadata": {},
   "outputs": [
    {
     "name": "stdout",
     "output_type": "stream",
     "text": [
      "Number of images:  1131\n",
      "Number of unique images:  547\n"
     ]
    }
   ],
   "source": [
    "print('Number of images: ', traffic_df.Filename.size)\n",
    "print('Number of unique images: ', traffic_df.Filename.nunique())"
   ]
  },
  {
   "cell_type": "code",
   "execution_count": 7,
   "metadata": {},
   "outputs": [
    {
     "name": "stdout",
     "output_type": "stream",
     "text": [
      "Number of unique annotation tags:  3\n"
     ]
    }
   ],
   "source": [
    "print('Number of unique annotation tags: ', traffic_df['Annotation tag'].nunique())"
   ]
  },
  {
   "cell_type": "code",
   "execution_count": 8,
   "metadata": {},
   "outputs": [
    {
     "data": {
      "text/plain": [
       "3    dayTraining/dayClip3--00004.png\n",
       "4    dayTraining/dayClip3--00004.png\n",
       "Name: Filename, dtype: object"
      ]
     },
     "execution_count": 8,
     "metadata": {},
     "output_type": "execute_result"
    }
   ],
   "source": [
    "traffic_df.Filename[traffic_df.Filename == \"dayTraining/dayClip3--00004.png\"]"
   ]
  },
  {
   "cell_type": "code",
   "execution_count": 9,
   "metadata": {},
   "outputs": [
    {
     "data": {
      "text/plain": [
       "[3, 4]"
      ]
     },
     "execution_count": 9,
     "metadata": {},
     "output_type": "execute_result"
    }
   ],
   "source": [
    "same_filenames = traffic_df.index[traffic_df['Filename'] == 'dayTraining/dayClip3--00004.png'].tolist()\n",
    "same_filenames"
   ]
  },
  {
   "cell_type": "code",
   "execution_count": 10,
   "metadata": {},
   "outputs": [
    {
     "name": "stdout",
     "output_type": "stream",
     "text": [
      "Number of images with green light:  118\n",
      "Number of images with yellow light:  60\n",
      "Number of images with red light:  953\n"
     ]
    }
   ],
   "source": [
    "print('Number of images with green light: ', traffic_df.Filename[traffic_df['Labels'] == 2].size)\n",
    "print('Number of images with yellow light: ', traffic_df.Filename[traffic_df['Labels'] == 1].size)\n",
    "print('Number of images with red light: ', traffic_df.Filename[traffic_df['Labels'] == 0].size)"
   ]
  },
  {
   "cell_type": "markdown",
   "metadata": {},
   "source": [
    "Convert the dayClip folder of images from .png to .jpg"
   ]
  },
  {
   "cell_type": "code",
   "execution_count": null,
   "metadata": {},
   "outputs": [],
   "source": [
    "from PIL import Image\n",
    "from glob import glob\n",
    "\n",
    "def png_to_jpeg():\n",
    "    for obj in glob(\"./images/dayTraining/dayClip3--*.png\"):\n",
    "        img = Image.open(obj)\n",
    "        obj = obj[:-3] + \"jpg\"\n",
    "        obj = obj [:9] + \"dayTrain\" + obj[-20:]\n",
    "        img.save(obj)\n",
    "        \n",
    "png_to_jpeg()"
   ]
  },
  {
   "cell_type": "markdown",
   "metadata": {},
   "source": [
    "Change image names in traffic_df.Filenames to JPG "
   ]
  },
  {
   "cell_type": "code",
   "execution_count": 11,
   "metadata": {},
   "outputs": [],
   "source": [
    "for i, img in enumerate(traffic_df.Filename):\n",
    "    traffic_df.at[i, 'Filename'] = img[:-3] + \"jpg\""
   ]
  },
  {
   "cell_type": "code",
   "execution_count": 12,
   "metadata": {},
   "outputs": [
    {
     "data": {
      "text/html": [
       "<div>\n",
       "<style scoped>\n",
       "    .dataframe tbody tr th:only-of-type {\n",
       "        vertical-align: middle;\n",
       "    }\n",
       "\n",
       "    .dataframe tbody tr th {\n",
       "        vertical-align: top;\n",
       "    }\n",
       "\n",
       "    .dataframe thead th {\n",
       "        text-align: right;\n",
       "    }\n",
       "</style>\n",
       "<table border=\"1\" class=\"dataframe\">\n",
       "  <thead>\n",
       "    <tr style=\"text-align: right;\">\n",
       "      <th></th>\n",
       "      <th>Filename</th>\n",
       "      <th>Annotation tag</th>\n",
       "      <th>Upper left corner X</th>\n",
       "      <th>Upper left corner Y</th>\n",
       "      <th>Lower right corner X</th>\n",
       "      <th>Lower right corner Y</th>\n",
       "      <th>Origin file</th>\n",
       "      <th>Origin frame number</th>\n",
       "      <th>Origin track</th>\n",
       "      <th>Origin track frame number</th>\n",
       "      <th>Labels</th>\n",
       "    </tr>\n",
       "  </thead>\n",
       "  <tbody>\n",
       "    <tr>\n",
       "      <th>0</th>\n",
       "      <td>dayTraining/dayClip3--00001.jpg</td>\n",
       "      <td>warning</td>\n",
       "      <td>622</td>\n",
       "      <td>361</td>\n",
       "      <td>637</td>\n",
       "      <td>379</td>\n",
       "      <td>dayTraining/dayClip3/dayClip3Shutter0.000800-G...</td>\n",
       "      <td>1</td>\n",
       "      <td>dayTraining/dayClip3/dayClip3Shutter0.000800-G...</td>\n",
       "      <td>1</td>\n",
       "      <td>1</td>\n",
       "    </tr>\n",
       "    <tr>\n",
       "      <th>1</th>\n",
       "      <td>dayTraining/dayClip3--00002.jpg</td>\n",
       "      <td>warning</td>\n",
       "      <td>622</td>\n",
       "      <td>358</td>\n",
       "      <td>637</td>\n",
       "      <td>380</td>\n",
       "      <td>dayTraining/dayClip3/dayClip3Shutter0.000800-G...</td>\n",
       "      <td>2</td>\n",
       "      <td>dayTraining/dayClip3/dayClip3Shutter0.000800-G...</td>\n",
       "      <td>2</td>\n",
       "      <td>1</td>\n",
       "    </tr>\n",
       "    <tr>\n",
       "      <th>2</th>\n",
       "      <td>dayTraining/dayClip3--00003.jpg</td>\n",
       "      <td>warning</td>\n",
       "      <td>506</td>\n",
       "      <td>382</td>\n",
       "      <td>518</td>\n",
       "      <td>404</td>\n",
       "      <td>dayTraining/dayClip3/dayClip3Shutter0.000800-G...</td>\n",
       "      <td>3</td>\n",
       "      <td>dayTraining/dayClip3/dayClip3Shutter0.000800-G...</td>\n",
       "      <td>3</td>\n",
       "      <td>1</td>\n",
       "    </tr>\n",
       "    <tr>\n",
       "      <th>3</th>\n",
       "      <td>dayTraining/dayClip3--00004.jpg</td>\n",
       "      <td>warning</td>\n",
       "      <td>620</td>\n",
       "      <td>358</td>\n",
       "      <td>638</td>\n",
       "      <td>380</td>\n",
       "      <td>dayTraining/dayClip3/dayClip3Shutter0.000800-G...</td>\n",
       "      <td>4</td>\n",
       "      <td>dayTraining/dayClip3/dayClip3Shutter0.000800-G...</td>\n",
       "      <td>4</td>\n",
       "      <td>1</td>\n",
       "    </tr>\n",
       "    <tr>\n",
       "      <th>4</th>\n",
       "      <td>dayTraining/dayClip3--00004.jpg</td>\n",
       "      <td>warning</td>\n",
       "      <td>504</td>\n",
       "      <td>382</td>\n",
       "      <td>519</td>\n",
       "      <td>404</td>\n",
       "      <td>dayTraining/dayClip3/dayClip3Shutter0.000800-G...</td>\n",
       "      <td>4</td>\n",
       "      <td>dayTraining/dayClip3/dayClip3Shutter0.000800-G...</td>\n",
       "      <td>4</td>\n",
       "      <td>1</td>\n",
       "    </tr>\n",
       "  </tbody>\n",
       "</table>\n",
       "</div>"
      ],
      "text/plain": [
       "                          Filename Annotation tag Upper left corner X  \\\n",
       "0  dayTraining/dayClip3--00001.jpg        warning                 622   \n",
       "1  dayTraining/dayClip3--00002.jpg        warning                 622   \n",
       "2  dayTraining/dayClip3--00003.jpg        warning                 506   \n",
       "3  dayTraining/dayClip3--00004.jpg        warning                 620   \n",
       "4  dayTraining/dayClip3--00004.jpg        warning                 504   \n",
       "\n",
       "  Upper left corner Y Lower right corner X Lower right corner Y  \\\n",
       "0                 361                  637                  379   \n",
       "1                 358                  637                  380   \n",
       "2                 382                  518                  404   \n",
       "3                 358                  638                  380   \n",
       "4                 382                  519                  404   \n",
       "\n",
       "                                         Origin file  Origin frame number  \\\n",
       "0  dayTraining/dayClip3/dayClip3Shutter0.000800-G...                    1   \n",
       "1  dayTraining/dayClip3/dayClip3Shutter0.000800-G...                    2   \n",
       "2  dayTraining/dayClip3/dayClip3Shutter0.000800-G...                    3   \n",
       "3  dayTraining/dayClip3/dayClip3Shutter0.000800-G...                    4   \n",
       "4  dayTraining/dayClip3/dayClip3Shutter0.000800-G...                    4   \n",
       "\n",
       "                                        Origin track  \\\n",
       "0  dayTraining/dayClip3/dayClip3Shutter0.000800-G...   \n",
       "1  dayTraining/dayClip3/dayClip3Shutter0.000800-G...   \n",
       "2  dayTraining/dayClip3/dayClip3Shutter0.000800-G...   \n",
       "3  dayTraining/dayClip3/dayClip3Shutter0.000800-G...   \n",
       "4  dayTraining/dayClip3/dayClip3Shutter0.000800-G...   \n",
       "\n",
       "   Origin track frame number  Labels  \n",
       "0                          1       1  \n",
       "1                          2       1  \n",
       "2                          3       1  \n",
       "3                          4       1  \n",
       "4                          4       1  "
      ]
     },
     "execution_count": 12,
     "metadata": {},
     "output_type": "execute_result"
    }
   ],
   "source": [
    "traffic_df.head()"
   ]
  },
  {
   "cell_type": "markdown",
   "metadata": {},
   "source": [
    "Some images have the same filenames so, get a unique name for each image that will be used in the train folder and test folder."
   ]
  },
  {
   "cell_type": "code",
   "execution_count": 13,
   "metadata": {},
   "outputs": [
    {
     "data": {
      "text/html": [
       "<div>\n",
       "<style scoped>\n",
       "    .dataframe tbody tr th:only-of-type {\n",
       "        vertical-align: middle;\n",
       "    }\n",
       "\n",
       "    .dataframe tbody tr th {\n",
       "        vertical-align: top;\n",
       "    }\n",
       "\n",
       "    .dataframe thead th {\n",
       "        text-align: right;\n",
       "    }\n",
       "</style>\n",
       "<table border=\"1\" class=\"dataframe\">\n",
       "  <thead>\n",
       "    <tr style=\"text-align: right;\">\n",
       "      <th></th>\n",
       "      <th>Filename</th>\n",
       "      <th>Annotation tag</th>\n",
       "      <th>Upper left corner X</th>\n",
       "      <th>Upper left corner Y</th>\n",
       "      <th>Lower right corner X</th>\n",
       "      <th>Lower right corner Y</th>\n",
       "      <th>Origin file</th>\n",
       "      <th>Origin frame number</th>\n",
       "      <th>Origin track</th>\n",
       "      <th>Origin track frame number</th>\n",
       "      <th>Labels</th>\n",
       "      <th>file_name</th>\n",
       "    </tr>\n",
       "  </thead>\n",
       "  <tbody>\n",
       "    <tr>\n",
       "      <th>0</th>\n",
       "      <td>dayTraining/dayClip3--00001.jpg</td>\n",
       "      <td>warning</td>\n",
       "      <td>622</td>\n",
       "      <td>361</td>\n",
       "      <td>637</td>\n",
       "      <td>379</td>\n",
       "      <td>dayTraining/dayClip3/dayClip3Shutter0.000800-G...</td>\n",
       "      <td>1</td>\n",
       "      <td>dayTraining/dayClip3/dayClip3Shutter0.000800-G...</td>\n",
       "      <td>1</td>\n",
       "      <td>1</td>\n",
       "      <td>img0.jpg</td>\n",
       "    </tr>\n",
       "    <tr>\n",
       "      <th>1</th>\n",
       "      <td>dayTraining/dayClip3--00002.jpg</td>\n",
       "      <td>warning</td>\n",
       "      <td>622</td>\n",
       "      <td>358</td>\n",
       "      <td>637</td>\n",
       "      <td>380</td>\n",
       "      <td>dayTraining/dayClip3/dayClip3Shutter0.000800-G...</td>\n",
       "      <td>2</td>\n",
       "      <td>dayTraining/dayClip3/dayClip3Shutter0.000800-G...</td>\n",
       "      <td>2</td>\n",
       "      <td>1</td>\n",
       "      <td>img1.jpg</td>\n",
       "    </tr>\n",
       "    <tr>\n",
       "      <th>2</th>\n",
       "      <td>dayTraining/dayClip3--00003.jpg</td>\n",
       "      <td>warning</td>\n",
       "      <td>506</td>\n",
       "      <td>382</td>\n",
       "      <td>518</td>\n",
       "      <td>404</td>\n",
       "      <td>dayTraining/dayClip3/dayClip3Shutter0.000800-G...</td>\n",
       "      <td>3</td>\n",
       "      <td>dayTraining/dayClip3/dayClip3Shutter0.000800-G...</td>\n",
       "      <td>3</td>\n",
       "      <td>1</td>\n",
       "      <td>img2.jpg</td>\n",
       "    </tr>\n",
       "    <tr>\n",
       "      <th>3</th>\n",
       "      <td>dayTraining/dayClip3--00004.jpg</td>\n",
       "      <td>warning</td>\n",
       "      <td>620</td>\n",
       "      <td>358</td>\n",
       "      <td>638</td>\n",
       "      <td>380</td>\n",
       "      <td>dayTraining/dayClip3/dayClip3Shutter0.000800-G...</td>\n",
       "      <td>4</td>\n",
       "      <td>dayTraining/dayClip3/dayClip3Shutter0.000800-G...</td>\n",
       "      <td>4</td>\n",
       "      <td>1</td>\n",
       "      <td>img3.jpg</td>\n",
       "    </tr>\n",
       "    <tr>\n",
       "      <th>4</th>\n",
       "      <td>dayTraining/dayClip3--00004.jpg</td>\n",
       "      <td>warning</td>\n",
       "      <td>504</td>\n",
       "      <td>382</td>\n",
       "      <td>519</td>\n",
       "      <td>404</td>\n",
       "      <td>dayTraining/dayClip3/dayClip3Shutter0.000800-G...</td>\n",
       "      <td>4</td>\n",
       "      <td>dayTraining/dayClip3/dayClip3Shutter0.000800-G...</td>\n",
       "      <td>4</td>\n",
       "      <td>1</td>\n",
       "      <td>img4.jpg</td>\n",
       "    </tr>\n",
       "  </tbody>\n",
       "</table>\n",
       "</div>"
      ],
      "text/plain": [
       "                          Filename Annotation tag Upper left corner X  \\\n",
       "0  dayTraining/dayClip3--00001.jpg        warning                 622   \n",
       "1  dayTraining/dayClip3--00002.jpg        warning                 622   \n",
       "2  dayTraining/dayClip3--00003.jpg        warning                 506   \n",
       "3  dayTraining/dayClip3--00004.jpg        warning                 620   \n",
       "4  dayTraining/dayClip3--00004.jpg        warning                 504   \n",
       "\n",
       "  Upper left corner Y Lower right corner X Lower right corner Y  \\\n",
       "0                 361                  637                  379   \n",
       "1                 358                  637                  380   \n",
       "2                 382                  518                  404   \n",
       "3                 358                  638                  380   \n",
       "4                 382                  519                  404   \n",
       "\n",
       "                                         Origin file  Origin frame number  \\\n",
       "0  dayTraining/dayClip3/dayClip3Shutter0.000800-G...                    1   \n",
       "1  dayTraining/dayClip3/dayClip3Shutter0.000800-G...                    2   \n",
       "2  dayTraining/dayClip3/dayClip3Shutter0.000800-G...                    3   \n",
       "3  dayTraining/dayClip3/dayClip3Shutter0.000800-G...                    4   \n",
       "4  dayTraining/dayClip3/dayClip3Shutter0.000800-G...                    4   \n",
       "\n",
       "                                        Origin track  \\\n",
       "0  dayTraining/dayClip3/dayClip3Shutter0.000800-G...   \n",
       "1  dayTraining/dayClip3/dayClip3Shutter0.000800-G...   \n",
       "2  dayTraining/dayClip3/dayClip3Shutter0.000800-G...   \n",
       "3  dayTraining/dayClip3/dayClip3Shutter0.000800-G...   \n",
       "4  dayTraining/dayClip3/dayClip3Shutter0.000800-G...   \n",
       "\n",
       "   Origin track frame number  Labels file_name  \n",
       "0                          1       1  img0.jpg  \n",
       "1                          2       1  img1.jpg  \n",
       "2                          3       1  img2.jpg  \n",
       "3                          4       1  img3.jpg  \n",
       "4                          4       1  img4.jpg  "
      ]
     },
     "execution_count": 13,
     "metadata": {},
     "output_type": "execute_result"
    }
   ],
   "source": [
    "traffic_df[\"file_name\"] = traffic_df.index\n",
    "traffic_df[\"file_name\"] = traffic_df[\"file_name\"].apply(str)\n",
    "traffic_df[\"file_name\"] = 'img' + traffic_df[\"file_name\"] + '.jpg'\n",
    "traffic_df.head()"
   ]
  },
  {
   "cell_type": "markdown",
   "metadata": {},
   "source": [
    "Copy the old filenames for reference when getting the images from the orig folder.\n",
    "\n",
    "Copy the new filenames to be used in identifying images in the train and test folders.\n",
    "\n",
    "Create the labels csv file for both train and test folder images."
   ]
  },
  {
   "cell_type": "code",
   "execution_count": 14,
   "metadata": {},
   "outputs": [
    {
     "data": {
      "text/plain": [
       "'dayTraining/dayClip3--00001.jpg'"
      ]
     },
     "execution_count": 14,
     "metadata": {},
     "output_type": "execute_result"
    }
   ],
   "source": [
    "samples = traffic_df.Filename\n",
    "samples = np.array(samples)\n",
    "samples[0]"
   ]
  },
  {
   "cell_type": "code",
   "execution_count": 15,
   "metadata": {},
   "outputs": [
    {
     "data": {
      "text/plain": [
       "'img0.jpg'"
      ]
     },
     "execution_count": 15,
     "metadata": {},
     "output_type": "execute_result"
    }
   ],
   "source": [
    "samples_newname = traffic_df.file_name\n",
    "samples_newname = np.array(samples_newname)\n",
    "samples_newname[0]"
   ]
  },
  {
   "cell_type": "code",
   "execution_count": 18,
   "metadata": {},
   "outputs": [],
   "source": [
    "labels_df = traffic_df[['file_name', 'Annotation tag', 'Upper left corner X', 'Upper left corner Y', 'Lower right corner X', 'Lower right corner Y']].copy()"
   ]
  },
  {
   "cell_type": "code",
   "execution_count": 19,
   "metadata": {},
   "outputs": [],
   "source": [
    "labels_df.columns = ['file_name', 'class', 'xmin', 'ymin', 'xmax', 'ymax']"
   ]
  },
  {
   "cell_type": "code",
   "execution_count": 20,
   "metadata": {},
   "outputs": [
    {
     "data": {
      "text/html": [
       "<div>\n",
       "<style scoped>\n",
       "    .dataframe tbody tr th:only-of-type {\n",
       "        vertical-align: middle;\n",
       "    }\n",
       "\n",
       "    .dataframe tbody tr th {\n",
       "        vertical-align: top;\n",
       "    }\n",
       "\n",
       "    .dataframe thead th {\n",
       "        text-align: right;\n",
       "    }\n",
       "</style>\n",
       "<table border=\"1\" class=\"dataframe\">\n",
       "  <thead>\n",
       "    <tr style=\"text-align: right;\">\n",
       "      <th></th>\n",
       "      <th>file_name</th>\n",
       "      <th>class</th>\n",
       "      <th>xmin</th>\n",
       "      <th>ymin</th>\n",
       "      <th>xmax</th>\n",
       "      <th>ymax</th>\n",
       "    </tr>\n",
       "  </thead>\n",
       "  <tbody>\n",
       "    <tr>\n",
       "      <th>0</th>\n",
       "      <td>img0.jpg</td>\n",
       "      <td>warning</td>\n",
       "      <td>622</td>\n",
       "      <td>361</td>\n",
       "      <td>637</td>\n",
       "      <td>379</td>\n",
       "    </tr>\n",
       "    <tr>\n",
       "      <th>1</th>\n",
       "      <td>img1.jpg</td>\n",
       "      <td>warning</td>\n",
       "      <td>622</td>\n",
       "      <td>358</td>\n",
       "      <td>637</td>\n",
       "      <td>380</td>\n",
       "    </tr>\n",
       "    <tr>\n",
       "      <th>2</th>\n",
       "      <td>img2.jpg</td>\n",
       "      <td>warning</td>\n",
       "      <td>506</td>\n",
       "      <td>382</td>\n",
       "      <td>518</td>\n",
       "      <td>404</td>\n",
       "    </tr>\n",
       "    <tr>\n",
       "      <th>3</th>\n",
       "      <td>img3.jpg</td>\n",
       "      <td>warning</td>\n",
       "      <td>620</td>\n",
       "      <td>358</td>\n",
       "      <td>638</td>\n",
       "      <td>380</td>\n",
       "    </tr>\n",
       "    <tr>\n",
       "      <th>4</th>\n",
       "      <td>img4.jpg</td>\n",
       "      <td>warning</td>\n",
       "      <td>504</td>\n",
       "      <td>382</td>\n",
       "      <td>519</td>\n",
       "      <td>404</td>\n",
       "    </tr>\n",
       "  </tbody>\n",
       "</table>\n",
       "</div>"
      ],
      "text/plain": [
       "  file_name    class xmin ymin xmax ymax\n",
       "0  img0.jpg  warning  622  361  637  379\n",
       "1  img1.jpg  warning  622  358  637  380\n",
       "2  img2.jpg  warning  506  382  518  404\n",
       "3  img3.jpg  warning  620  358  638  380\n",
       "4  img4.jpg  warning  504  382  519  404"
      ]
     },
     "execution_count": 20,
     "metadata": {},
     "output_type": "execute_result"
    }
   ],
   "source": [
    "labels_df.head()"
   ]
  },
  {
   "cell_type": "code",
   "execution_count": 21,
   "metadata": {},
   "outputs": [],
   "source": [
    "labels_df.to_csv(r'./images/labels.csv', index = False, header=True)"
   ]
  },
  {
   "cell_type": "markdown",
   "metadata": {},
   "source": [
    "Reminder: \n",
    "\n",
    "There is no need to resize for LISA database as the images are quite small (~<200KB) when converted to JPG. However, data from other sources added  and used may need resizing and conversion."
   ]
  },
  {
   "cell_type": "code",
   "execution_count": 22,
   "metadata": {},
   "outputs": [],
   "source": [
    "from sklearn.model_selection import train_test_split\n",
    "from sklearn.utils import shuffle"
   ]
  },
  {
   "cell_type": "code",
   "execution_count": 23,
   "metadata": {},
   "outputs": [],
   "source": [
    "# rand_state = np.random.randint(0,100)\n",
    "rand_state = 100\n",
    "FN_train, FN_test, X_train, X_test, y_train_df, y_test_df = train_test_split(samples, samples_newname, labels_df, test_size=0.2, random_state=rand_state)"
   ]
  },
  {
   "cell_type": "code",
   "execution_count": 24,
   "metadata": {},
   "outputs": [],
   "source": [
    "y_train_df = y_train_df.copy()\n",
    "y_test_df = y_test_df.copy()"
   ]
  },
  {
   "cell_type": "code",
   "execution_count": 25,
   "metadata": {},
   "outputs": [
    {
     "name": "stdout",
     "output_type": "stream",
     "text": [
      "FN_train size:  904\n",
      "FN_test size:  227\n",
      "X_train size:  904\n",
      "X_test size:  227\n",
      "y_train_df size:  5424\n",
      "y_test_df size:  1362\n"
     ]
    }
   ],
   "source": [
    "print('FN_train size: ', FN_train.size)\n",
    "print('FN_test size: ', FN_test.size)\n",
    "print('X_train size: ', X_train.size)\n",
    "print('X_test size: ', X_test.size)\n",
    "print('y_train_df size: ', y_train_df.size)\n",
    "print('y_test_df size: ', y_test_df.size)"
   ]
  },
  {
   "cell_type": "markdown",
   "metadata": {},
   "source": [
    "Copy images to train and test folders\n",
    "\n",
    "Create folders first before proceeding"
   ]
  },
  {
   "cell_type": "code",
   "execution_count": 26,
   "metadata": {},
   "outputs": [],
   "source": [
    "new_basedir = './images/train/'\n",
    "height_train = [] \n",
    "width_train = []\n",
    "for index in range(X_train.size):\n",
    "    name = basedir + FN_train[index]\n",
    "    X_train[index] = new_basedir + X_train[index]\n",
    "    image = cv2.imread(name) # using the orig name, read the image\n",
    "    cv2.imwrite(X_train[index], image) # using a new unique name, save the image\n",
    "    height_train.append(image.shape[0])\n",
    "    width_train.append(image.shape[1])"
   ]
  },
  {
   "cell_type": "code",
   "execution_count": 27,
   "metadata": {},
   "outputs": [],
   "source": [
    "new_basedir = './images/test/'\n",
    "height_test = [] \n",
    "width_test = []\n",
    "for index in range(X_test.size):\n",
    "    name = basedir + FN_test[index]\n",
    "    X_test[index] = new_basedir + X_test[index]\n",
    "    image = cv2.imread(name) # using the orig name, read the image\n",
    "    cv2.imwrite(X_test[index], image) # using a new unique name, save the image\n",
    "    height_test.append(image.shape[0])\n",
    "    width_test.append(image.shape[1])"
   ]
  },
  {
   "cell_type": "code",
   "execution_count": 37,
   "metadata": {},
   "outputs": [],
   "source": [
    "y_train_df['filename'] = y_train_df['file_name']\n",
    "y_train_df['height'] = height_train\n",
    "y_train_df['width'] = width_train\n",
    "y_train_df['height'] = y_train_df['height'].apply(str)\n",
    "y_train_df['width'] = y_train_df['width'].apply(str)\n",
    "y_train = y_train_df[['filename', 'width', 'height','class', 'xmin', 'ymin', 'xmax', 'ymax']].copy()"
   ]
  },
  {
   "cell_type": "code",
   "execution_count": 38,
   "metadata": {},
   "outputs": [],
   "source": [
    "y_test_df['filename'] = y_test_df['file_name']\n",
    "y_test_df['height'] = height_test\n",
    "y_test_df['width'] = width_test\n",
    "y_test_df['height'] = y_test_df['height'].apply(str)\n",
    "y_test_df['width'] = y_test_df['width'].apply(str)\n",
    "y_test = y_test_df[['filename', 'width', 'height', 'class', 'xmin', 'ymin', 'xmax', 'ymax']].copy()"
   ]
  },
  {
   "cell_type": "markdown",
   "metadata": {},
   "source": [
    "Check array values"
   ]
  },
  {
   "cell_type": "code",
   "execution_count": 39,
   "metadata": {},
   "outputs": [
    {
     "name": "stdout",
     "output_type": "stream",
     "text": [
      "./images/train/img580.jpg\n",
      "./images/train/img515.jpg\n",
      "./images/train/img46.jpg\n",
      "./images/train/img424.jpg\n",
      "./images/train/img826.jpg\n"
     ]
    }
   ],
   "source": [
    "for i in range(5):\n",
    "    print(X_train[i])"
   ]
  },
  {
   "cell_type": "code",
   "execution_count": 40,
   "metadata": {},
   "outputs": [
    {
     "name": "stdout",
     "output_type": "stream",
     "text": [
      "./images/test/img1074.jpg\n",
      "./images/test/img816.jpg\n",
      "./images/test/img954.jpg\n",
      "./images/test/img241.jpg\n",
      "./images/test/img239.jpg\n"
     ]
    }
   ],
   "source": [
    "for i in range(5):\n",
    "    print(X_test[i])"
   ]
  },
  {
   "cell_type": "code",
   "execution_count": 41,
   "metadata": {},
   "outputs": [
    {
     "data": {
      "text/html": [
       "<div>\n",
       "<style scoped>\n",
       "    .dataframe tbody tr th:only-of-type {\n",
       "        vertical-align: middle;\n",
       "    }\n",
       "\n",
       "    .dataframe tbody tr th {\n",
       "        vertical-align: top;\n",
       "    }\n",
       "\n",
       "    .dataframe thead th {\n",
       "        text-align: right;\n",
       "    }\n",
       "</style>\n",
       "<table border=\"1\" class=\"dataframe\">\n",
       "  <thead>\n",
       "    <tr style=\"text-align: right;\">\n",
       "      <th></th>\n",
       "      <th>filename</th>\n",
       "      <th>width</th>\n",
       "      <th>height</th>\n",
       "      <th>class</th>\n",
       "      <th>xmin</th>\n",
       "      <th>ymin</th>\n",
       "      <th>xmax</th>\n",
       "      <th>ymax</th>\n",
       "    </tr>\n",
       "  </thead>\n",
       "  <tbody>\n",
       "    <tr>\n",
       "      <th>580</th>\n",
       "      <td>img580.jpg</td>\n",
       "      <td>1280</td>\n",
       "      <td>960</td>\n",
       "      <td>stop</td>\n",
       "      <td>619</td>\n",
       "      <td>77</td>\n",
       "      <td>661</td>\n",
       "      <td>140</td>\n",
       "    </tr>\n",
       "    <tr>\n",
       "      <th>515</th>\n",
       "      <td>img515.jpg</td>\n",
       "      <td>1280</td>\n",
       "      <td>960</td>\n",
       "      <td>stop</td>\n",
       "      <td>893</td>\n",
       "      <td>256</td>\n",
       "      <td>932</td>\n",
       "      <td>328</td>\n",
       "    </tr>\n",
       "    <tr>\n",
       "      <th>46</th>\n",
       "      <td>img46.jpg</td>\n",
       "      <td>1280</td>\n",
       "      <td>960</td>\n",
       "      <td>warning</td>\n",
       "      <td>780</td>\n",
       "      <td>356</td>\n",
       "      <td>792</td>\n",
       "      <td>374</td>\n",
       "    </tr>\n",
       "    <tr>\n",
       "      <th>424</th>\n",
       "      <td>img424.jpg</td>\n",
       "      <td>1280</td>\n",
       "      <td>960</td>\n",
       "      <td>stop</td>\n",
       "      <td>628</td>\n",
       "      <td>202</td>\n",
       "      <td>661</td>\n",
       "      <td>251</td>\n",
       "    </tr>\n",
       "    <tr>\n",
       "      <th>826</th>\n",
       "      <td>img826.jpg</td>\n",
       "      <td>1280</td>\n",
       "      <td>960</td>\n",
       "      <td>stop</td>\n",
       "      <td>960</td>\n",
       "      <td>205</td>\n",
       "      <td>1020</td>\n",
       "      <td>304</td>\n",
       "    </tr>\n",
       "  </tbody>\n",
       "</table>\n",
       "</div>"
      ],
      "text/plain": [
       "       filename width height    class xmin ymin  xmax ymax\n",
       "580  img580.jpg  1280    960     stop  619   77   661  140\n",
       "515  img515.jpg  1280    960     stop  893  256   932  328\n",
       "46    img46.jpg  1280    960  warning  780  356   792  374\n",
       "424  img424.jpg  1280    960     stop  628  202   661  251\n",
       "826  img826.jpg  1280    960     stop  960  205  1020  304"
      ]
     },
     "execution_count": 41,
     "metadata": {},
     "output_type": "execute_result"
    }
   ],
   "source": [
    "y_train.head()"
   ]
  },
  {
   "cell_type": "code",
   "execution_count": 42,
   "metadata": {},
   "outputs": [
    {
     "data": {
      "text/html": [
       "<div>\n",
       "<style scoped>\n",
       "    .dataframe tbody tr th:only-of-type {\n",
       "        vertical-align: middle;\n",
       "    }\n",
       "\n",
       "    .dataframe tbody tr th {\n",
       "        vertical-align: top;\n",
       "    }\n",
       "\n",
       "    .dataframe thead th {\n",
       "        text-align: right;\n",
       "    }\n",
       "</style>\n",
       "<table border=\"1\" class=\"dataframe\">\n",
       "  <thead>\n",
       "    <tr style=\"text-align: right;\">\n",
       "      <th></th>\n",
       "      <th>filename</th>\n",
       "      <th>width</th>\n",
       "      <th>height</th>\n",
       "      <th>class</th>\n",
       "      <th>xmin</th>\n",
       "      <th>ymin</th>\n",
       "      <th>xmax</th>\n",
       "      <th>ymax</th>\n",
       "    </tr>\n",
       "  </thead>\n",
       "  <tbody>\n",
       "    <tr>\n",
       "      <th>1074</th>\n",
       "      <td>img1074.jpg</td>\n",
       "      <td>1280</td>\n",
       "      <td>960</td>\n",
       "      <td>go</td>\n",
       "      <td>975</td>\n",
       "      <td>210</td>\n",
       "      <td>1023</td>\n",
       "      <td>290</td>\n",
       "    </tr>\n",
       "    <tr>\n",
       "      <th>816</th>\n",
       "      <td>img816.jpg</td>\n",
       "      <td>1280</td>\n",
       "      <td>960</td>\n",
       "      <td>stop</td>\n",
       "      <td>960</td>\n",
       "      <td>205</td>\n",
       "      <td>1020</td>\n",
       "      <td>304</td>\n",
       "    </tr>\n",
       "    <tr>\n",
       "      <th>954</th>\n",
       "      <td>img954.jpg</td>\n",
       "      <td>1280</td>\n",
       "      <td>960</td>\n",
       "      <td>stop</td>\n",
       "      <td>960</td>\n",
       "      <td>205</td>\n",
       "      <td>1020</td>\n",
       "      <td>304</td>\n",
       "    </tr>\n",
       "    <tr>\n",
       "      <th>241</th>\n",
       "      <td>img241.jpg</td>\n",
       "      <td>1280</td>\n",
       "      <td>960</td>\n",
       "      <td>stop</td>\n",
       "      <td>888</td>\n",
       "      <td>313</td>\n",
       "      <td>903</td>\n",
       "      <td>344</td>\n",
       "    </tr>\n",
       "    <tr>\n",
       "      <th>239</th>\n",
       "      <td>img239.jpg</td>\n",
       "      <td>1280</td>\n",
       "      <td>960</td>\n",
       "      <td>stop</td>\n",
       "      <td>779</td>\n",
       "      <td>266</td>\n",
       "      <td>794</td>\n",
       "      <td>284</td>\n",
       "    </tr>\n",
       "  </tbody>\n",
       "</table>\n",
       "</div>"
      ],
      "text/plain": [
       "         filename width height class xmin ymin  xmax ymax\n",
       "1074  img1074.jpg  1280    960    go  975  210  1023  290\n",
       "816    img816.jpg  1280    960  stop  960  205  1020  304\n",
       "954    img954.jpg  1280    960  stop  960  205  1020  304\n",
       "241    img241.jpg  1280    960  stop  888  313   903  344\n",
       "239    img239.jpg  1280    960  stop  779  266   794  284"
      ]
     },
     "execution_count": 42,
     "metadata": {},
     "output_type": "execute_result"
    }
   ],
   "source": [
    "y_test.head()"
   ]
  },
  {
   "cell_type": "code",
   "execution_count": 43,
   "metadata": {},
   "outputs": [
    {
     "data": {
      "text/html": [
       "<div>\n",
       "<style scoped>\n",
       "    .dataframe tbody tr th:only-of-type {\n",
       "        vertical-align: middle;\n",
       "    }\n",
       "\n",
       "    .dataframe tbody tr th {\n",
       "        vertical-align: top;\n",
       "    }\n",
       "\n",
       "    .dataframe thead th {\n",
       "        text-align: right;\n",
       "    }\n",
       "</style>\n",
       "<table border=\"1\" class=\"dataframe\">\n",
       "  <thead>\n",
       "    <tr style=\"text-align: right;\">\n",
       "      <th></th>\n",
       "      <th>filename</th>\n",
       "      <th>width</th>\n",
       "      <th>height</th>\n",
       "      <th>class</th>\n",
       "      <th>xmin</th>\n",
       "      <th>ymin</th>\n",
       "      <th>xmax</th>\n",
       "      <th>ymax</th>\n",
       "    </tr>\n",
       "  </thead>\n",
       "  <tbody>\n",
       "    <tr>\n",
       "      <th>count</th>\n",
       "      <td>227</td>\n",
       "      <td>227</td>\n",
       "      <td>227</td>\n",
       "      <td>227</td>\n",
       "      <td>227</td>\n",
       "      <td>227</td>\n",
       "      <td>227</td>\n",
       "      <td>227</td>\n",
       "    </tr>\n",
       "    <tr>\n",
       "      <th>unique</th>\n",
       "      <td>227</td>\n",
       "      <td>1</td>\n",
       "      <td>1</td>\n",
       "      <td>3</td>\n",
       "      <td>143</td>\n",
       "      <td>124</td>\n",
       "      <td>134</td>\n",
       "      <td>105</td>\n",
       "    </tr>\n",
       "    <tr>\n",
       "      <th>top</th>\n",
       "      <td>img532.jpg</td>\n",
       "      <td>1280</td>\n",
       "      <td>960</td>\n",
       "      <td>stop</td>\n",
       "      <td>614</td>\n",
       "      <td>42</td>\n",
       "      <td>662</td>\n",
       "      <td>114</td>\n",
       "    </tr>\n",
       "    <tr>\n",
       "      <th>freq</th>\n",
       "      <td>1</td>\n",
       "      <td>227</td>\n",
       "      <td>227</td>\n",
       "      <td>184</td>\n",
       "      <td>29</td>\n",
       "      <td>28</td>\n",
       "      <td>28</td>\n",
       "      <td>28</td>\n",
       "    </tr>\n",
       "  </tbody>\n",
       "</table>\n",
       "</div>"
      ],
      "text/plain": [
       "          filename width height class xmin ymin xmax ymax\n",
       "count          227   227    227   227  227  227  227  227\n",
       "unique         227     1      1     3  143  124  134  105\n",
       "top     img532.jpg  1280    960  stop  614   42  662  114\n",
       "freq             1   227    227   184   29   28   28   28"
      ]
     },
     "execution_count": 43,
     "metadata": {},
     "output_type": "execute_result"
    }
   ],
   "source": [
    "y_test.describe()"
   ]
  },
  {
   "cell_type": "markdown",
   "metadata": {},
   "source": [
    "Copy labels to train and test files"
   ]
  },
  {
   "cell_type": "code",
   "execution_count": 44,
   "metadata": {},
   "outputs": [],
   "source": [
    "y_train.to_csv(r'./images/train_labels.csv', index = False, header=True)"
   ]
  },
  {
   "cell_type": "code",
   "execution_count": 45,
   "metadata": {},
   "outputs": [],
   "source": [
    "y_test.to_csv(r'./images/test_labels.csv', index = False, header=True)"
   ]
  },
  {
   "cell_type": "markdown",
   "metadata": {},
   "source": [
    "   ### THE END"
   ]
  },
  {
   "cell_type": "markdown",
   "metadata": {},
   "source": [
    "HELPER SCRIPT"
   ]
  },
  {
   "cell_type": "markdown",
   "metadata": {},
   "source": [
    "Convert an image from .png to .jpg"
   ]
  },
  {
   "cell_type": "code",
   "execution_count": null,
   "metadata": {},
   "outputs": [],
   "source": [
    "from PIL import Image\n",
    "\n",
    "ima = Image.open(\"./images/dayTraining/dayClip3--00000.png\")\n",
    "ima.save(\"./images/dayTraining/ima.jpg\")"
   ]
  },
  {
   "cell_type": "code",
   "execution_count": null,
   "metadata": {},
   "outputs": [],
   "source": []
  }
 ],
 "metadata": {
  "anaconda-cloud": {},
  "kernelspec": {
   "display_name": "Python 3",
   "language": "python",
   "name": "python3"
  },
  "language_info": {
   "codemirror_mode": {
    "name": "ipython",
    "version": 3
   },
   "file_extension": ".py",
   "mimetype": "text/x-python",
   "name": "python",
   "nbconvert_exporter": "python",
   "pygments_lexer": "ipython3",
   "version": "3.6.8"
  },
  "widgets": {
   "state": {},
   "version": "1.1.2"
  }
 },
 "nbformat": 4,
 "nbformat_minor": 1
}
